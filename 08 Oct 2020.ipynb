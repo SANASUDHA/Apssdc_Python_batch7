{
 "cells": [
  {
   "cell_type": "markdown",
   "metadata": {},
   "source": [
    "#### Types of User defined functions\n",
    "- Required arguments\n",
    "- Keyword arguments\n",
    "- Default arguments\n",
    "- Variable length arguments"
   ]
  },
  {
   "cell_type": "code",
   "execution_count": 4,
   "metadata": {},
   "outputs": [
    {
     "name": "stdout",
     "output_type": "stream",
     "text": [
      "123 python\n",
      "cse\n"
     ]
    }
   ],
   "source": [
    "# Required arguments\n",
    "def Student(rollno,name,branch):\n",
    "    print(rollno,name)\n",
    "    print(branch)\n",
    "Student(123,\"python\",\"cse\")"
   ]
  },
  {
   "cell_type": "code",
   "execution_count": 5,
   "metadata": {},
   "outputs": [
    {
     "name": "stdout",
     "output_type": "stream",
     "text": [
      "123 keyword 45.78\n"
     ]
    }
   ],
   "source": [
    "# keyword arguments\n",
    "def Keywordargs(i,s,f):\n",
    "    print(i,s,f)\n",
    "    \n",
    "Keywordargs(s=\"keyword\",f=45.78,i=123)"
   ]
  },
  {
   "cell_type": "code",
   "execution_count": 6,
   "metadata": {},
   "outputs": [],
   "source": [
    "# Default arguments\n",
    "def Example(a=23,b=67.98,c=\"string\",d=\"123456\"):\n",
    "    print(a,b)\n",
    "    print(c,d)\n",
    "    "
   ]
  },
  {
   "cell_type": "code",
   "execution_count": 7,
   "metadata": {},
   "outputs": [
    {
     "name": "stdout",
     "output_type": "stream",
     "text": [
      "23 67.98\n",
      "string 123456\n"
     ]
    }
   ],
   "source": [
    "Example()"
   ]
  },
  {
   "cell_type": "code",
   "execution_count": 8,
   "metadata": {},
   "outputs": [
    {
     "name": "stdout",
     "output_type": "stream",
     "text": [
      "sdfghjk 67.98\n",
      "string 123456\n"
     ]
    }
   ],
   "source": [
    "Example(\"sdfghjk\")"
   ]
  },
  {
   "cell_type": "code",
   "execution_count": 9,
   "metadata": {},
   "outputs": [
    {
     "name": "stdout",
     "output_type": "stream",
     "text": [
      "hi 679\n",
      "string 123456\n"
     ]
    }
   ],
   "source": [
    "Example(\"hi\",679)"
   ]
  },
  {
   "cell_type": "code",
   "execution_count": 12,
   "metadata": {},
   "outputs": [
    {
     "name": "stdout",
     "output_type": "stream",
     "text": [
      "1 2\n",
      "(5, 6, 7, 8, 'abc', 'dfghj', 9, 4, 34, 67, 5678)\n"
     ]
    }
   ],
   "source": [
    "# variable length arguments\n",
    "def Varargs(a,b,*c):\n",
    "    print(a,b)\n",
    "    print(c)\n",
    "    #print(d)\n",
    "    \n",
    "Varargs(1,2,5,6,7,8,\"abc\",\"dfghj\",9,4,34,67,5678)"
   ]
  },
  {
   "cell_type": "code",
   "execution_count": 15,
   "metadata": {},
   "outputs": [
    {
     "name": "stdout",
     "output_type": "stream",
     "text": [
      "enter a number 7\n",
      "5040\n"
     ]
    }
   ],
   "source": [
    "# 5!-- 5x4x3x2x1\n",
    "def factorial(n):\n",
    "    fact = 1\n",
    "    for i in range(1,n+1):\n",
    "        fact = fact * i\n",
    "    print(fact)\n",
    "    \n",
    "factorial(int(input(\"enter a number \")))"
   ]
  },
  {
   "cell_type": "code",
   "execution_count": 17,
   "metadata": {},
   "outputs": [
    {
     "name": "stdout",
     "output_type": "stream",
     "text": [
      "enter a value 6\n"
     ]
    },
    {
     "data": {
      "text/plain": [
       "720"
      ]
     },
     "execution_count": 17,
     "metadata": {},
     "output_type": "execute_result"
    }
   ],
   "source": [
    "def factorialRecursion(n):\n",
    "    if n == 1:\n",
    "        return 1\n",
    "    else:\n",
    "        return n * factorialRecursion(n-1) # 5 ,5x4,5x4x3,5x4x3x2x1\n",
    "    \n",
    "n = int(input(\"enter a value \"))\n",
    "factorialRecursion(n)    "
   ]
  },
  {
   "cell_type": "code",
   "execution_count": 16,
   "metadata": {},
   "outputs": [
    {
     "name": "stdout",
     "output_type": "stream",
     "text": [
      "enter a 4\n",
      "enter b 8\n",
      "12\n",
      "32\n"
     ]
    }
   ],
   "source": [
    "def add(a,b):\n",
    "    print(a+b)\n",
    "def sub(a,b):\n",
    "    print(a-b)\n",
    "def mul(a,b):\n",
    "    print(a*b)\n",
    "def power(a,b):\n",
    "    print(a**b)\n",
    "def intdiv(a,b):\n",
    "    print(a//b)\n",
    "    \n",
    "a = int(input(\"enter a \"))\n",
    "b = int(input(\"enter b \"))\n",
    "print(\"1.add 2.sub 3.mul 4.div 5.pow 6.mod\")\n",
    "add(a,b)\n",
    "mul(a,b)"
   ]
  },
  {
   "cell_type": "markdown",
   "metadata": {},
   "source": [
    "#### Modules and Packages\n",
    "##### Modules\n",
    "- A python file which contains function(s)\n",
    "#### Packages\n",
    "- collection of modules"
   ]
  },
  {
   "cell_type": "code",
   "execution_count": 19,
   "metadata": {},
   "outputs": [
    {
     "data": {
      "text/plain": [
       "16.0"
      ]
     },
     "execution_count": 19,
     "metadata": {},
     "output_type": "execute_result"
    }
   ],
   "source": [
    "import math # import module\n",
    "math.sqrt(256)"
   ]
  },
  {
   "cell_type": "code",
   "execution_count": 21,
   "metadata": {},
   "outputs": [
    {
     "data": {
      "text/plain": [
       "10.0"
      ]
     },
     "execution_count": 21,
     "metadata": {},
     "output_type": "execute_result"
    }
   ],
   "source": [
    "from math import sqrt # from package import module\n",
    "sqrt(100)"
   ]
  },
  {
   "cell_type": "code",
   "execution_count": 22,
   "metadata": {},
   "outputs": [
    {
     "data": {
      "text/plain": [
       "9.0"
      ]
     },
     "execution_count": 22,
     "metadata": {},
     "output_type": "execute_result"
    }
   ],
   "source": [
    "from math import sqrt as s\n",
    "s(81)"
   ]
  },
  {
   "cell_type": "code",
   "execution_count": 24,
   "metadata": {},
   "outputs": [
    {
     "name": "stdout",
     "output_type": "stream",
     "text": [
      "10\n",
      "13\n",
      "18\n",
      "17\n"
     ]
    }
   ],
   "source": [
    "import random \n",
    "for i in range(1,5):\n",
    "    print(random.randint(10,20))"
   ]
  },
  {
   "cell_type": "code",
   "execution_count": 26,
   "metadata": {},
   "outputs": [
    {
     "name": "stdout",
     "output_type": "stream",
     "text": [
      "enter no of rows 5\n",
      "* \n",
      "* * \n",
      "* * * \n",
      "* * * * \n",
      "* * * * * \n"
     ]
    }
   ],
   "source": [
    "row = int(input(\"enter no of rows \"))\n",
    "for i in range(row):\n",
    "    for j in range(i+1):\n",
    "        print(\"*\",end=\" \")\n",
    "    print()"
   ]
  },
  {
   "cell_type": "code",
   "execution_count": 29,
   "metadata": {},
   "outputs": [
    {
     "name": "stdout",
     "output_type": "stream",
     "text": [
      "enter a number123\n",
      "6\n"
     ]
    }
   ],
   "source": [
    "n = int(input(\"enter a number\"))\n",
    "i = 0\n",
    "while n>0:\n",
    "    i = i + n%10\n",
    "    n = n // 10\n",
    "print(i)"
   ]
  },
  {
   "cell_type": "code",
   "execution_count": null,
   "metadata": {},
   "outputs": [],
   "source": []
  }
 ],
 "metadata": {
  "kernelspec": {
   "display_name": "Python 3",
   "language": "python",
   "name": "python3"
  },
  "language_info": {
   "codemirror_mode": {
    "name": "ipython",
    "version": 3
   },
   "file_extension": ".py",
   "mimetype": "text/x-python",
   "name": "python",
   "nbconvert_exporter": "python",
   "pygments_lexer": "ipython3",
   "version": "3.7.1"
  }
 },
 "nbformat": 4,
 "nbformat_minor": 2
}
