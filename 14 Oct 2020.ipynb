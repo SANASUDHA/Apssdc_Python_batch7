{
 "cells": [
  {
   "cell_type": "markdown",
   "metadata": {},
   "source": [
    "#### Class and objects\n",
    "##### Class\n",
    "- Collection of data members and member functions\n",
    "##### object\n",
    "- instance of a class"
   ]
  },
  {
   "cell_type": "code",
   "execution_count": null,
   "metadata": {},
   "outputs": [],
   "source": [
    "# class syntax\n",
    "class classname:\n",
    "    #datamembers\n",
    "    # memberfunctions\n",
    "    \n",
    "object = classname()\n"
   ]
  },
  {
   "cell_type": "code",
   "execution_count": 1,
   "metadata": {},
   "outputs": [
    {
     "data": {
      "text/plain": [
       "<__main__.Example at 0x228420ffdd8>"
      ]
     },
     "execution_count": 1,
     "metadata": {},
     "output_type": "execute_result"
    }
   ],
   "source": [
    "class Example:\n",
    "    pass\n",
    "ob = Example()\n",
    "ob"
   ]
  },
  {
   "cell_type": "code",
   "execution_count": 2,
   "metadata": {},
   "outputs": [
    {
     "data": {
      "text/plain": [
       "'This is a sample text'"
      ]
     },
     "execution_count": 2,
     "metadata": {},
     "output_type": "execute_result"
    }
   ],
   "source": [
    "class string:\n",
    "    '''This is a sample text'''\n",
    "    \n",
    "obj = string()\n",
    "obj.__doc__"
   ]
  },
  {
   "cell_type": "code",
   "execution_count": 4,
   "metadata": {},
   "outputs": [
    {
     "name": "stdout",
     "output_type": "stream",
     "text": [
      "123 python cse\n"
     ]
    }
   ],
   "source": [
    "class student:\n",
    "    def __init__(self,sid,sname,sbranch):\n",
    "        self.sid = sid\n",
    "        self.sname = sname\n",
    "        self.sbranch = sbranch\n",
    "        \n",
    "    def display(self):\n",
    "        print(self.sid,self.sname,self.sbranch)\n",
    "        \n",
    "ob1 = student(123,\"python\",\"cse\") \n",
    "ob1.display()"
   ]
  },
  {
   "cell_type": "code",
   "execution_count": 8,
   "metadata": {},
   "outputs": [
    {
     "name": "stdout",
     "output_type": "stream",
     "text": [
      "values assigned\n",
      "26\n",
      "20\n"
     ]
    }
   ],
   "source": [
    "class Calculator:\n",
    "    def __init__(self,a,b):\n",
    "        self.a = a\n",
    "        self.b = b\n",
    "        print(\"values assigned\")\n",
    "        \n",
    "    def add(self): # instance method\n",
    "        print(self.a + self.b)\n",
    "        \n",
    "    def mul(c,d): # static method\n",
    "        print(c*d)\n",
    "        \n",
    "        \n",
    "ob1 = Calculator(12,14)\n",
    "ob1.add()\n",
    "Calculator.mul(4,5)"
   ]
  },
  {
   "cell_type": "code",
   "execution_count": 13,
   "metadata": {},
   "outputs": [
    {
     "name": "stdout",
     "output_type": "stream",
     "text": [
      "abc 123\n",
      "org name is APSSDC\n",
      "0\n"
     ]
    }
   ],
   "source": [
    "class Employee:\n",
    "    orgname = \"APSSDC\"\n",
    "    def __init__(self,ename,eid):\n",
    "        self.ename = ename\n",
    "        self.eid = eid\n",
    "        \n",
    "    def show(self): # instance method\n",
    "        print(self.ename,self.eid)\n",
    "        \n",
    "    @classmethod\n",
    "    def organization(temp): # class method\n",
    "        print(\"org name is\",temp.orgname)\n",
    "        \n",
    "    @staticmethod\n",
    "    def div(a,b): # static method\n",
    "        print(a//b)\n",
    "        \n",
    "ob1 = Employee(\"abc\",123)\n",
    "\n",
    "ob1.show()\n",
    "\n",
    "Employee.organization()\n",
    "Employee.div(5,10)"
   ]
  },
  {
   "cell_type": "markdown",
   "metadata": {},
   "source": [
    "#### Inheritance\n",
    "- Acquiring properties from parent class to child class\n",
    "###### Types\n",
    "    - Single level Inheritance\n",
    "    - Multilevel inheritance\n",
    "    - Multiple inheritance\n",
    "    - Hierachical inheritance"
   ]
  },
  {
   "cell_type": "code",
   "execution_count": 14,
   "metadata": {},
   "outputs": [
    {
     "name": "stdout",
     "output_type": "stream",
     "text": [
      "in parent class a function\n",
      "in child class\n",
      "in parennt class b function\n"
     ]
    }
   ],
   "source": [
    "# Single level inheritance : parent ---> child\n",
    "# If a child class is derived from one parent class\n",
    "class Parent:\n",
    "    def a(self):\n",
    "        print(\"in parent class a function\")\n",
    "        \n",
    "    def b(self):\n",
    "        print(\"in parennt class b function\")\n",
    "        \n",
    "class child(Parent):\n",
    "    def c(self):\n",
    "        print(\"in child class\")\n",
    "        \n",
    "ob = child()\n",
    "\n",
    "ob.a()\n",
    "ob.c()\n",
    "ob.b()"
   ]
  },
  {
   "cell_type": "code",
   "execution_count": 15,
   "metadata": {},
   "outputs": [
    {
     "name": "stdout",
     "output_type": "stream",
     "text": [
      "A class first method\n",
      "b class second function\n",
      "in child class\n"
     ]
    }
   ],
   "source": [
    "# Multi level inheritance : A ---> B(A) --> C (B)\n",
    "# If a class is derived from more than one class then it is multi level inheritance\n",
    "class A:\n",
    "    def first(self):\n",
    "        print(\"A class first method\")\n",
    "        \n",
    "class B(A):\n",
    "    def second(self):\n",
    "        print(\"b class second function\")\n",
    "        \n",
    "class C(B):\n",
    "    def Third(self):\n",
    "        print(\"in child class\")\n",
    "        \n",
    "ob = C()\n",
    "ob.first()\n",
    "ob.second()\n",
    "ob.Third()"
   ]
  },
  {
   "cell_type": "code",
   "execution_count": 16,
   "metadata": {},
   "outputs": [
    {
     "name": "stdout",
     "output_type": "stream",
     "text": [
      "in parent class x function\n",
      "in parentone class\n",
      "in parent class y function\n",
      "in child class\n"
     ]
    }
   ],
   "source": [
    "# multiple Inheritance : P1,P2 ---> child\n",
    "# if a class is derived from more than one parent class then it is multiple inheritance\n",
    "class Parent:\n",
    "    def x(self):\n",
    "        print(\"in parent class x function\")\n",
    "        \n",
    "    def y(self):\n",
    "        print(\"in parent class y function\")\n",
    "        \n",
    "class Parentone:\n",
    "    def a(self):\n",
    "        print(\"in parentone class\")\n",
    "        \n",
    "class child(Parent,Parentone):\n",
    "    def k(self):\n",
    "        print(\"in child class\")\n",
    "        \n",
    "        \n",
    "ob1 = child()\n",
    "ob1.x()\n",
    "ob1.a()\n",
    "ob1.y()\n",
    "ob1.k()"
   ]
  },
  {
   "cell_type": "code",
   "execution_count": 19,
   "metadata": {},
   "outputs": [
    {
     "name": "stdout",
     "output_type": "stream",
     "text": [
      "in parent class\n",
      "in child1 class\n",
      "in parent class\n",
      "in child2 class\n"
     ]
    }
   ],
   "source": [
    "# Hierachical Inheritance\n",
    "# one or more classes  are derived from a single parent class\n",
    "class Parent:\n",
    "    def p(self):\n",
    "        print(\"in parent class\")\n",
    "        \n",
    "class child1(Parent):\n",
    "    def c1(self):\n",
    "        print(\"in child1 class\")\n",
    "        \n",
    "class child2(Parent):\n",
    "    def c2(self):\n",
    "        print(\"in child2 class\")\n",
    "        \n",
    "ob1 = child1()\n",
    "ob2 = child2()\n",
    "\n",
    "ob1.p()\n",
    "ob1.c1()\n",
    "#ob1.c2()\n",
    "\n",
    "ob2.p()\n",
    "ob2.c2()"
   ]
  },
  {
   "cell_type": "code",
   "execution_count": null,
   "metadata": {},
   "outputs": [],
   "source": []
  }
 ],
 "metadata": {
  "kernelspec": {
   "display_name": "Python 3",
   "language": "python",
   "name": "python3"
  },
  "language_info": {
   "codemirror_mode": {
    "name": "ipython",
    "version": 3
   },
   "file_extension": ".py",
   "mimetype": "text/x-python",
   "name": "python",
   "nbconvert_exporter": "python",
   "pygments_lexer": "ipython3",
   "version": "3.7.1"
  }
 },
 "nbformat": 4,
 "nbformat_minor": 2
}
