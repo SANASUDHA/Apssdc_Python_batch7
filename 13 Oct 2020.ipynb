{
 "cells": [
  {
   "cell_type": "markdown",
   "metadata": {},
   "source": [
    "#### Regular expressions\n",
    "- RegEx is a sequence of characters that match a pattern\n",
    "- import re"
   ]
  },
  {
   "cell_type": "markdown",
   "metadata": {},
   "source": [
    "- Character    Usecase\n",
    "- []           Represents a character\n",
    "- ^            Matches the begining\n",
    "- *            Zero or more occurenece\n",
    "- +            one or more occurence\n",
    "- .            match a character\n",
    "- |            OR\n",
    "- {}           Range set\n",
    "- [a-z]        any lower case character\n",
    "- [0-9]        any digit\n",
    "- $            matches the ending"
   ]
  },
  {
   "cell_type": "code",
   "execution_count": 1,
   "metadata": {},
   "outputs": [],
   "source": [
    "import re"
   ]
  },
  {
   "cell_type": "code",
   "execution_count": 3,
   "metadata": {},
   "outputs": [
    {
     "data": {
      "text/plain": [
       "<re.Match object; span=(0, 1), match='p'>"
      ]
     },
     "execution_count": 3,
     "metadata": {},
     "output_type": "execute_result"
    }
   ],
   "source": [
    "re.match(\"p\",\"python\")"
   ]
  },
  {
   "cell_type": "code",
   "execution_count": 4,
   "metadata": {},
   "outputs": [
    {
     "data": {
      "text/plain": [
       "<re.Match object; span=(0, 3), match='pyt'>"
      ]
     },
     "execution_count": 4,
     "metadata": {},
     "output_type": "execute_result"
    }
   ],
   "source": [
    "re.match(\"pyt\",\"python\")"
   ]
  },
  {
   "cell_type": "code",
   "execution_count": 5,
   "metadata": {},
   "outputs": [],
   "source": [
    "re.match(\"o\",\"python\")"
   ]
  },
  {
   "cell_type": "code",
   "execution_count": 6,
   "metadata": {},
   "outputs": [
    {
     "data": {
      "text/plain": [
       "<re.Match object; span=(4, 5), match='o'>"
      ]
     },
     "execution_count": 6,
     "metadata": {},
     "output_type": "execute_result"
    }
   ],
   "source": [
    "re.search(\"o\",\"python\")"
   ]
  },
  {
   "cell_type": "code",
   "execution_count": 7,
   "metadata": {},
   "outputs": [
    {
     "data": {
      "text/plain": [
       "<re.Match object; span=(1, 2), match='o'>"
      ]
     },
     "execution_count": 7,
     "metadata": {},
     "output_type": "execute_result"
    }
   ],
   "source": [
    "re.search(\"o\",\"book\")"
   ]
  },
  {
   "cell_type": "code",
   "execution_count": 8,
   "metadata": {},
   "outputs": [
    {
     "data": {
      "text/plain": [
       "['o', 'o']"
      ]
     },
     "execution_count": 8,
     "metadata": {},
     "output_type": "execute_result"
    }
   ],
   "source": [
    "re.findall(\"o\",\"book\")"
   ]
  },
  {
   "cell_type": "code",
   "execution_count": 11,
   "metadata": {},
   "outputs": [
    {
     "name": "stdout",
     "output_type": "stream",
     "text": [
      "enter a stringKsdgfhjklrtyghnm\n"
     ]
    },
    {
     "data": {
      "text/plain": [
       "False"
      ]
     },
     "execution_count": 11,
     "metadata": {},
     "output_type": "execute_result"
    }
   ],
   "source": [
    "def Names(s):\n",
    "    pattern = '^[A-Z][a-z]*[a]$'\n",
    "    if re.match(pattern,s):\n",
    "        return True\n",
    "    return False\n",
    "Names(input(\"enter a string\"))"
   ]
  },
  {
   "cell_type": "code",
   "execution_count": 14,
   "metadata": {},
   "outputs": [
    {
     "name": "stdout",
     "output_type": "stream",
     "text": [
      "enter a stringPrathyusha\n"
     ]
    },
    {
     "data": {
      "text/plain": [
       "True"
      ]
     },
     "execution_count": 14,
     "metadata": {},
     "output_type": "execute_result"
    }
   ],
   "source": [
    "def NameLength(s):\n",
    "    pattern = '^[A-Z][a-z]{8,13}[a]$'\n",
    "    if re.match(pattern,s):\n",
    "        return True\n",
    "    return False\n",
    "NameLength(input(\"enter a string\"))"
   ]
  },
  {
   "cell_type": "markdown",
   "metadata": {},
   "source": [
    "### Phone Number Validation\n",
    "- 10 digits\n",
    "    - 9876543210\n",
    "    - accepts digits only\n",
    "    - starts from 6-9\n",
    "    - ^[6-9][0-9]{9}\n",
    "- 11 digits\n",
    "    - 09876543210\n",
    "    - ^[0][6-9][0-9]{9}\n",
    "    \n",
    "- 12 digits\n",
    "    - + 91 9876543210\n",
    "    - ^[+][9][1][6-9][0-9]{9}"
   ]
  },
  {
   "cell_type": "code",
   "execution_count": 15,
   "metadata": {},
   "outputs": [
    {
     "name": "stdout",
     "output_type": "stream",
     "text": [
      "enter a string9876543210\n"
     ]
    },
    {
     "data": {
      "text/plain": [
       "True"
      ]
     },
     "execution_count": 15,
     "metadata": {},
     "output_type": "execute_result"
    }
   ],
   "source": [
    "def phoneNumber(s):\n",
    "    pattern = '^[6-9][0-9]{9}$|^[0][6-9][0-9]{9}$|^[+][9][1][6-9][0-9]{9}$'\n",
    "    if re.match(pattern,s):\n",
    "        return True\n",
    "    return False\n",
    "phoneNumber(input(\"enter a string\"))"
   ]
  },
  {
   "cell_type": "markdown",
   "metadata": {},
   "source": [
    "#### Email validation\n",
    "- abcde.f@gmail.com\n",
    "- Username\n",
    "    - abcde.f\n",
    "    - it contains lower case alphabet,digits,.,_\n",
    "    - No special characters are allowed\n",
    "    - minimum characters are 6 and maximum are 30\n",
    "    - ^[a-z0-9][a-z0-9._]{4,28}[a-z0-9]\n",
    "- Domain\n",
    "    - gmail\n",
    "    - it contains alphabet and digits\n",
    "    - no special characters are allowed\n",
    "    - minimum characters are 5 and maximum are 18\n",
    "    - [a-z0-9]{5,18}\n",
    "- Extension\n",
    "    - com\n",
    "    - accepts alphabet\n",
    "    - No special characters and digits are allowed\n",
    "    - minimum characters are 2 and maximum are 6\n",
    "    - [a-z]{2,6}\n",
    "- Username @ domain . extension"
   ]
  },
  {
   "cell_type": "code",
   "execution_count": 16,
   "metadata": {},
   "outputs": [
    {
     "name": "stdout",
     "output_type": "stream",
     "text": [
      "enter a stringabcde.f@gmail.com\n"
     ]
    },
    {
     "data": {
      "text/plain": [
       "True"
      ]
     },
     "execution_count": 16,
     "metadata": {},
     "output_type": "execute_result"
    }
   ],
   "source": [
    "def emailValidation(s):\n",
    "    pattern = '^[a-z0-9][a-z0-9._]{4,28}[a-z0-9][@][a-z0-9]{5,18}[.][a-z]{2,6}$'\n",
    "    if re.match(pattern,s):\n",
    "        return True\n",
    "    return False\n",
    "emailValidation(input(\"enter a string\"))"
   ]
  },
  {
   "cell_type": "code",
   "execution_count": null,
   "metadata": {},
   "outputs": [],
   "source": []
  }
 ],
 "metadata": {
  "kernelspec": {
   "display_name": "Python 3",
   "language": "python",
   "name": "python3"
  },
  "language_info": {
   "codemirror_mode": {
    "name": "ipython",
    "version": 3
   },
   "file_extension": ".py",
   "mimetype": "text/x-python",
   "name": "python",
   "nbconvert_exporter": "python",
   "pygments_lexer": "ipython3",
   "version": "3.7.1"
  }
 },
 "nbformat": 4,
 "nbformat_minor": 2
}
