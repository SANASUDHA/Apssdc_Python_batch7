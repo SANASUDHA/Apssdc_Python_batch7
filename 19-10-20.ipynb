{
 "cells": [
  {
   "cell_type": "markdown",
   "metadata": {},
   "source": [
    "#### Lambda"
   ]
  },
  {
   "cell_type": "code",
   "execution_count": 14,
   "metadata": {},
   "outputs": [],
   "source": [
    "from random import randint\n",
    "def genmarks(n,lb,ub):\n",
    "    filename='DataFiles/marks.txt'\n",
    "    with open(filename,'w') as f:\n",
    "        for i in range(n):\n",
    "            marks=randint(lb,ub)\n",
    "            f.write(str(marks)+'\\n')\n",
    "    return\n",
    "genmarks(50,1,100)"
   ]
  },
  {
   "cell_type": "code",
   "execution_count": 15,
   "metadata": {},
   "outputs": [
    {
     "data": {
      "text/plain": [
       "52"
      ]
     },
     "execution_count": 15,
     "metadata": {},
     "output_type": "execute_result"
    }
   ],
   "source": [
    "# class average\n",
    "def readML(filepath):\n",
    "    with open(filepath,'r')as f:\n",
    "        filedata = f.read().split()\n",
    "    return list(map(int, filedata))\n",
    "    # [2,1,5,7,9,5,90,34,......]\n",
    "def clsavg(filepath):\n",
    "    marklist=readML(filepath)\n",
    "    return sum(marklist)//len(marklist)\n",
    "filepath='DataFiles/marks.txt'\n",
    "clsavg(filepath)\n",
    "            "
   ]
  },
  {
   "cell_type": "code",
   "execution_count": 16,
   "metadata": {},
   "outputs": [
    {
     "data": {
      "text/plain": [
       "38.0"
      ]
     },
     "execution_count": 16,
     "metadata": {},
     "output_type": "execute_result"
    }
   ],
   "source": [
    "def percentF(filepath):\n",
    "    marklist=readML(filepath)\n",
    "    failcount=len(list(filter(lambda mark:mark<40,marklist)))\n",
    "    return (failcount/len(marklist))*100\n",
    "percentF(filepath)"
   ]
  },
  {
   "cell_type": "code",
   "execution_count": 17,
   "metadata": {},
   "outputs": [
    {
     "data": {
      "text/plain": [
       "62.0"
      ]
     },
     "execution_count": 17,
     "metadata": {},
     "output_type": "execute_result"
    }
   ],
   "source": [
    "def percentP(filepath):\n",
    "    return 100-percentF(filepath)\n",
    "percentP(filepath)"
   ]
  },
  {
   "cell_type": "code",
   "execution_count": 19,
   "metadata": {},
   "outputs": [
    {
     "data": {
      "text/plain": [
       "30.0"
      ]
     },
     "execution_count": 19,
     "metadata": {},
     "output_type": "execute_result"
    }
   ],
   "source": [
    "def percentD(filepath):\n",
    "    marklist=readML(filepath)\n",
    "    distcount=len(list(filter(lambda mark:mark>70, marklist)))\n",
    "    return (distcount/len(marklist))*100\n",
    "percentD(filepath)"
   ]
  },
  {
   "cell_type": "code",
   "execution_count": 22,
   "metadata": {},
   "outputs": [
    {
     "name": "stdout",
     "output_type": "stream",
     "text": [
      "['Nikola Tesla', 'James Watt', 'Albert Einstein']\n"
     ]
    }
   ],
   "source": [
    "names1 = ['nikola','james','albert']\n",
    "names2 = ['tesla','watt','einstein']\n",
    "result = lambda x,y:x[0].upper()+x[1:]+' '+y[0].upper()+y[1:]\n",
    "print(list(map(result,names1,names2)))\n",
    "# output-->['Nikola Tesla','James Watt','Albert Einstein']"
   ]
  },
  {
   "cell_type": "code",
   "execution_count": null,
   "metadata": {},
   "outputs": [],
   "source": []
  }
 ],
 "metadata": {
  "kernelspec": {
   "display_name": "Python 3",
   "language": "python",
   "name": "python3"
  },
  "language_info": {
   "codemirror_mode": {
    "name": "ipython",
    "version": 3
   },
   "file_extension": ".py",
   "mimetype": "text/x-python",
   "name": "python",
   "nbconvert_exporter": "python",
   "pygments_lexer": "ipython3",
   "version": "3.7.6"
  }
 },
 "nbformat": 4,
 "nbformat_minor": 4
}
